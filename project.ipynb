{
 "cells": [
  {
   "cell_type": "markdown",
   "source": [
    "Calculating Beta of a Stock Using Linear Regression (Monthly for last 4 years)"
   ],
   "metadata": {}
  },
  {
   "cell_type": "code",
   "execution_count": null,
   "source": [
    "import numpy as np\r\n",
    "import pandas_datareader as reader\r\n",
    "import datetime as dt\r\n",
    "import matplotlib.pyplot as plt\r\n",
    "import yfinance as yf"
   ],
   "outputs": [],
   "metadata": {}
  },
  {
   "cell_type": "code",
   "execution_count": null,
   "source": [
    "end=dt.datetime.now()\r\n",
    "start=dt.date(end.year -4, end.month, end.day)\r\n",
    "#print(start)\r\n",
    "stock= ['ITC.NS','NS']"
   ],
   "outputs": [],
   "metadata": {}
  },
  {
   "cell_type": "markdown",
   "source": [
    "Using pandas-datareader"
   ],
   "metadata": {}
  },
  {
   "cell_type": "code",
   "execution_count": null,
   "source": [
    "df=reader.get_data_yahoo(stock,start,end)['Adj Close']"
   ],
   "outputs": [],
   "metadata": {}
  },
  {
   "cell_type": "code",
   "execution_count": null,
   "source": [
    "df"
   ],
   "outputs": [],
   "metadata": {}
  },
  {
   "cell_type": "markdown",
   "source": [
    "Using Yahoo Finance"
   ],
   "metadata": {}
  },
  {
   "cell_type": "code",
   "execution_count": null,
   "source": [
    "data=yf.download(stock,start,end)['Adj Close']"
   ],
   "outputs": [],
   "metadata": {}
  },
  {
   "cell_type": "code",
   "execution_count": null,
   "source": [
    "data.rename(columns={'ITC.NS':'ITC'}, inplace=True)"
   ],
   "outputs": [],
   "metadata": {}
  },
  {
   "cell_type": "code",
   "execution_count": null,
   "source": [
    "data=data.resample('M').ffill() #Forward fill the empty values and resample monthly\r\n",
    "data=data.dropna(axis=0) #Drop row containing NaN\r\n",
    "data.head()"
   ],
   "outputs": [],
   "metadata": {}
  },
  {
   "cell_type": "code",
   "execution_count": null,
   "source": [
    "data.plot()\r\n",
    "plt.ylabel('Price')\r\n",
    "plt.title('Adjusted Close Price Comparision')\r\n",
    "plt.show()"
   ],
   "outputs": [],
   "metadata": {}
  },
  {
   "cell_type": "markdown",
   "source": [
    "Calculating Cumulative Daily Returns"
   ],
   "metadata": {}
  },
  {
   "cell_type": "code",
   "execution_count": null,
   "source": [
    "monthly_ret=data.pct_change() #calculates change\r\n",
    "monthly_cum_ret=(monthly_ret+1).cumprod() #calculates cumulative monthly returns\r\n",
    "monthly_cum_ret=monthly_cum_ret.dropna(axis=0)\r\n",
    "monthly_cum_ret\r\n",
    "monthly_cum_ret.plot()\r\n",
    "plt.ylabel('Change')\r\n",
    "plt.title('Cumulative monthly Returns Comparision')\r\n",
    "plt.show()"
   ],
   "outputs": [],
   "metadata": {}
  },
  {
   "cell_type": "markdown",
   "source": [
    "Plotting A Scatter Plot"
   ],
   "metadata": {}
  },
  {
   "cell_type": "code",
   "execution_count": null,
   "source": [
    "x=monthly_cum_ret.NS\r\n",
    "y=monthly_cum_ret.ITC\r\n",
    "plt.scatter(x,y,s=10,c='orange')\r\n",
    "plt.title('Scatter Plot of Stock VS Index')\r\n",
    "plt.xlabel('NSE')\r\n",
    "plt.ylabel('ITC')"
   ],
   "outputs": [],
   "metadata": {}
  },
  {
   "cell_type": "markdown",
   "source": [
    "Building A Regression Model"
   ],
   "metadata": {}
  },
  {
   "cell_type": "code",
   "execution_count": null,
   "source": [
    "model=np.polyfit(x,y,1)\r\n",
    "#model outputs an array with the elements as [Beta,Alpha]\r\n",
    "Beta=float(model[0])\r\n",
    "Alpha=float(model[1])"
   ],
   "outputs": [],
   "metadata": {}
  },
  {
   "cell_type": "code",
   "execution_count": null,
   "source": [
    "y1=(Beta*x)+Alpha\r\n",
    "\r\n",
    "plt.plot(x,y1,c='red')\r\n",
    "plt.scatter(x,y,s=10,c='orange')\r\n",
    "plt.title('Plot Showing Linear Regression')\r\n",
    "plt.xlabel('NSE')\r\n",
    "plt.ylabel('ITC')\r\n",
    "plt.show()\r\n",
    "print('Beta of the stock is ',Beta)\r\n",
    "print('Alpha of the stock is ',Alpha)\r\n"
   ],
   "outputs": [],
   "metadata": {}
  }
 ],
 "metadata": {
  "orig_nbformat": 4,
  "language_info": {
   "name": "python",
   "version": "3.9.5",
   "mimetype": "text/x-python",
   "codemirror_mode": {
    "name": "ipython",
    "version": 3
   },
   "pygments_lexer": "ipython3",
   "nbconvert_exporter": "python",
   "file_extension": ".py"
  },
  "kernelspec": {
   "name": "python3",
   "display_name": "Python 3.9.5 64-bit"
  },
  "interpreter": {
   "hash": "82043e9c6bb60dc85d822aa1bc58ee389a3953da33585b1a533ca4c796d4eb5e"
  }
 },
 "nbformat": 4,
 "nbformat_minor": 2
}